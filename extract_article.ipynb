{
 "cells": [
  {
   "cell_type": "code",
   "execution_count": 2,
   "metadata": {},
   "outputs": [],
   "source": [
    "import json, os, re\n",
    "\n",
    "from bs4 import BeautifulSoup\n",
    "import numpy as np\n",
    "import requests\n",
    "from requests.models import MissingSchema\n",
    "import trafilatura\n",
    "import spacy"
   ]
  },
  {
   "cell_type": "code",
   "execution_count": 3,
   "metadata": {},
   "outputs": [],
   "source": [
    "# Define web page url\n",
    "url = 'https://www.theguardian.com/uk-news/2023/sep/08/what-a-year-of-king-charles-has-shown-us-about-how-he-wants-to-reign'"
   ]
  },
  {
   "cell_type": "code",
   "execution_count": 4,
   "metadata": {},
   "outputs": [],
   "source": [
    "# Define Beautifulsoup fallback function for cases when Trafilatura is unable to extract text\n",
    "def extract_text_fallback(response_content):\n",
    "    \n",
    "    # Create the beautifulsoup object\n",
    "    soup = BeautifulSoup(response_content, 'html.parser')\n",
    "    \n",
    "    # Find the text:\n",
    "    text = soup.find_all(text=True)\n",
    "    \n",
    "    # Remove unwanted tag elements\n",
    "    cleaned_text = ''\n",
    "    unwanted_tags = [\n",
    "        '[document]',\n",
    "        'noscript',\n",
    "        'header',\n",
    "        'html',\n",
    "        'meta',\n",
    "        'head', \n",
    "        'input',\n",
    "        'script',\n",
    "        'style',]\n",
    "\n",
    "    # Extract text, ignoring unwanted tags\n",
    "    for item in text:\n",
    "        if item.parent.name not in unwanted_tags:\n",
    "            cleaned_text += '{} '.format(item)\n",
    "            \n",
    "    # Remove any tab separation and strip the text\n",
    "    cleaned_text = cleaned_text.replace('\\t', '')\n",
    "    return cleaned_text.strip()\n",
    "    \n",
    "# Define extract function, Trafilatura with callback function\n",
    "def extract_text(url):\n",
    "    \n",
    "    downloaded_url = trafilatura.fetch_url(url)\n",
    "    try:\n",
    "        extracted_content = trafilatura.extract(downloaded_url, output_format='json', with_metadata=True, include_comments = False,\n",
    "                            date_extraction_params={'extensive_search': True, 'original_date': True})\n",
    "    except AttributeError:\n",
    "        extracted_content = trafilatura.extract(downloaded_url, output_format='json', with_metadata=True,\n",
    "                            date_extraction_params={'extensive_search': True, 'original_date': True})\n",
    "    if extracted_content:\n",
    "        json_output = json.loads(extracted_content)\n",
    "        return json_output['text']\n",
    "    else:\n",
    "        try:\n",
    "            # Obtain the response\n",
    "            resp = requests.get(url)\n",
    "            # Check if the response status is 200 - Status OK, collect HTML Content\n",
    "            if resp.status_code == 200:\n",
    "                return extract_text_fallback(resp.content)\n",
    "            else:\n",
    "                # If both Trafilature and BeautifulSoup functions fail\n",
    "                return np.nan\n",
    "        # Handle any URLs that don't have the correct protocol\n",
    "        except MissingSchema:\n",
    "            return np.nan\n"
   ]
  },
  {
   "cell_type": "code",
   "execution_count": 5,
   "metadata": {},
   "outputs": [
    {
     "name": "stdout",
     "output_type": "stream",
     "text": [
      "As the king spends the first anniversary of his mother’s death, and of his accession, at his Scottish highland retreat on Friday, he may reflect back on a year of historic transition not seen in 70 years.\n",
      "Suggestions that Charles, 74, sees himself as a “caretaker king”, keeping the throne warm for the new Prince of Wales, who will be the real reformer, is not a scenario recognised at Buckingham Palace.\n",
      "There have been no eye-catching reforms in his first year, and he can be fairly described as the “cautious” king. But there are clues to his aspirations in the small changes.\n",
      "He has turbo-charged royal receptions, harnessing their soft-power to the maximum, sources point out, in the knowledge he can no longer speak out publicly on subjects he remains passionate about.\n",
      "So, the “convening” king is a label it seems he will accept.\n",
      "When advised by Liz Truss’s government not to attend the Cop27 climate conference in Egypt, he instead hosted an eve of Cop27 reception for international representatives at Buckingham Palace. He found a way to remain a leader in the field of the climate crisis, albeit within the new constitutional parameters that constrain him.\n",
      "Now, “informal formality” are the bywords. Receptions are larger-scale events – such as that in February for the British east and south-east Asian communities. The nature of these receptions has changed from the late queen’s days, precisely because Charles is no longer able to become involved in certain areas, sources indicate.\n",
      "He also sees himself, as head of state, of being a symbol of continuity and stability, said sources. The political turbulence of the early days of his reign saw him no sooner having his first meeting with one prime minster than he was on to his second.\n",
      "He has made his debut as king on the international stage, addressing the German Bundestag, a first for a British monarch, and a similar honour will be accorded in France this month when he addresses their parliamentarians. He has also hosted the US president, Joe Biden, and the South African president, Cyril Ramaphosa.\n",
      "But, while he would like to be seen as a unifying figure, the challenging dynamics of his own fractured family have dominated his first year. The Duke and Duchess of Sussex’s protracted onslaught against the royal family and institution in general, and Harry’s criticism of his father in particular, have played out across the world.\n",
      "From Charles there has been silence. It has never been an established position that nothing would be said, rather in what way would saying something make things better. So far, there has not been a day when he has thought saying something was going to make things better, the Guardian understands. His love for his younger son, though, is demonstrated in his invitation to Harry and Meghan to his coronation, although only Harry turned up and then made a swift exit back to LA.\n",
      "Another early challenge was the race row involving Lady Susan Hussey, the late queen’s lady-in-waiting, and a black female charity reception guest, Ngozi Fulani, of Sistah Space. Some royal observers were surprised at the speed and ruthlessness with which Charles’s aides dealt with the fallout. Hussey immediately resigned from the royal household for making “unacceptable and deeply regrettable comments”, and later offered an apology in person, which Fulani accepted.\n",
      "For Charles – who is very close to Hussey, godmother to William – it was a difficult situation. “One could almost argue it was dealt with too swiftly. The reaction to that was surprising, particularly from the Prince of Wales,” said Joe Little, managing editor of Majesty Magazine, noting Hussey was soon back in the royal fold.\n",
      "“I suppose it was important to be seen to be addressing the issue head on, as opposed to the way that other issues, such as bullying allegations, are being treated as private matters,” Little added, referencing bullying allegations made against, and denied by, Meghan.\n",
      "Another challenge Charles faces is the “slimmed-down” monarchy he is said to have wanted, which now looks positively skeletal. The Princess Royal may have had a point when she told Canada’s CBC News that a slimmed down monarchy “doesn’t sound like a good idea from where I’m standing”.\n",
      "With Andrew and Harry out of the picture, and the death of the late queen, what to do with all the patronages is a big question. In the official coronation photograph featuring the remaining 11 working royals, the Duke of Kent and Princess Alexandra are 87 and 86 respectively, the king, 74, the queen, 76, Princess Anne, 73, the Duke and Duchess of Gloucester 79 and 77 respectively, the Duke and Duchess of Edinburgh 59 and 58 respectively, while the Waleses are both 41.\n",
      "“The Duke of Kent and the Gloucesters and Princess Alexandra, they can’t take on anything more. They will keep going as long as they can,” said Hugo Vickers, a royal historian. “You’ve lost Prince Andrew and Prince Harry. It’s a big issue, I think. You can see what Princess Anne means.”\n",
      "How the king will overcome this remains to be seen, but an ageing royal family could affect its popularity. While the most recent YouGov poll shows a majority (59%) think Charles is doing well, support for the institution in general fell as those questioned got younger, with 80% of the over-65s voicing their approval but only 37% of 18- to 24-year-olds.\n",
      "He will also have to contend with an increasingly vocal republican movement. While said to be genuinely pleased with the response he gets on the streets during engagements, he cannot ignore the protests and chants of “not my king”. The over-zealous policing of the coronation led to 64 arrests, some not even protesters, it later emerged. Only five people have so far been charged, and half told they will face no charges or fines.\n",
      "The necessary integration of two householdsafter the late queen’s death has inevitably led to a reduction in staff, and the king is also, reportedly, setting about reducing the number of middle managers in his employ.\n",
      "“If a whole layer of middle-management is to be removed then that’s a necessary step that maybe should have been taken some time ago. He obviously sees a need for modernisation, and it looks like he’s going through the process at the moment,” said Little.\n",
      "The monarchy is due to receive a huge pay increase, with public funding through the sovereign grant rising £86.3m this year to £126m in 2025 due to the formula based on crown estate profits, the Guardian has reported.\n",
      "Charles’s address to the nation, delivered after his mother’s death, laid out a blueprint for his reign: his solemn pledge to “uphold the constitutional principles at the heart of our nation” and acknowledgment that his new responsibilities mean it will “no longer be possible for me to give so much of my time and energies to the charities and issues for which I care so deeply”.\n",
      "“It was brilliant. I don’t think the late queen had to set out a blueprint about what she was going to do, but that is what we expect these days. And it certainly hit all the nails on the head. And he has kept to it,” said Vickers.\n",
      "It was a message “that was very much reinforced by Prince William leaping up on to the stage at the [coronation] concert and giving that Shakespearean speech, basically he was then saying: ‘I’m going to be the one talking now,’” added Vickers.\n",
      "Charles has previously insisted he knew he couldn’t meddle once king. “But saying it and doing it are two very different things, and that doesn’t mean to say that he won’t at some point interfere,” said Little. His first big personal project as monarch to be launched in the autumn is a national initiative to tackle food waste, led by Dame Martina Milburn, the chief executive of the Prince’s Trust. “And you wonder how political that might be, so that remains to be seen,” he added.\n",
      "One surprise omission in Charles’s first year has been the lack of Commonwealth activity – he is king of 14 other countries, with some debating whether to ditch him. Perhaps it is down to lack of time in a busy year, said Little. “But there hasn’t yet been the Commonwealth activity in the way you might expect there to have been.”\n",
      "By and large, it is Charles the “cautious” king we have seen so far. “He is the best prepared Prince of Wales that the UK has ever had. Clearly we are unlikely to celebrate the silver jubilee of King Charles III. But he could be king for 20 years,” said Little. “To be described as a ‘caretaker king’ for two decades is doing him a great disservice. He clearly has a lot of offer. We have yet to see some of his potential. But it’s early days.”\n"
     ]
    }
   ],
   "source": [
    "# Extract parsed text\n",
    "final_article_text = extract_text(url)\n",
    "\n",
    "print(final_article_text)"
   ]
  },
  {
   "cell_type": "code",
   "execution_count": null,
   "metadata": {},
   "outputs": [],
   "source": [
    "# Convert text into spacy tokens doc\n",
    "nlp = spacy.load(\"en_core_web_sm\")\n",
    "doc = nlp(final_article_text)\n",
    "print(doc)"
   ]
  },
  {
   "cell_type": "code",
   "execution_count": 7,
   "metadata": {},
   "outputs": [
    {
     "name": "stdout",
     "output_type": "stream",
     "text": [
      "The estimated word count for this document is: 1795.\n",
      "\n",
      "The estimated number of sentences in the document is: 68.\n"
     ]
    }
   ],
   "source": [
    "# Check the word count per text document\n",
    "print(f\"The estimated word count for this document is: {len(doc)}.\\n\")\n",
    "# Check the number of sentences\n",
    "print(f\"The estimated number of sentences in the document is: {len(list(doc.sents))}.\")"
   ]
  },
  {
   "cell_type": "code",
   "execution_count": 8,
   "metadata": {},
   "outputs": [
    {
     "name": "stdout",
     "output_type": "stream",
     "text": [
      "As_the_king_spends_the_first_anniversary_of_his_mother’s_death\n"
     ]
    }
   ],
   "source": [
    "# Extract article's title from the first sentence\n",
    "for sent_i in enumerate(doc.sents):\n",
    "  sent_i\n",
    "first_sentence = str(f\"{list(doc.sents)[0]}\")\n",
    "first_sentence = first_sentence.replace(' ','_')\n",
    "first_sentence = re.sub('\\n.*','',first_sentence)\n",
    "article_first_sentence = re.sub('[?!\\\\/:*|\\\"\\'<>]','',first_sentence).split(',')[0]\n",
    "print(f\"The article's first sentence is: {article_first_sentence}\")\n"
   ]
  },
  {
   "cell_type": "code",
   "execution_count": 9,
   "metadata": {},
   "outputs": [
    {
     "name": "stdout",
     "output_type": "stream",
     "text": [
      "What_a_year_of_King_Charles_has_shown_us_about_how_he_wants_to_reign_\n"
     ]
    }
   ],
   "source": [
    "# Extract article's title from tag\n",
    "\n",
    "## Obtain the response\n",
    "resp = requests.get(url)\n",
    "## Get Content\n",
    "soup = BeautifulSoup(resp.content, 'html.parser')\n",
    "## Get title\n",
    "title = soup.find('title').string.split('|')[0]\n",
    "article_title = title.replace(' ','_')\n",
    "print(f\"The article's title is: {article_title}\")"
   ]
  },
  {
   "cell_type": "code",
   "execution_count": 10,
   "metadata": {},
   "outputs": [
    {
     "data": {
      "text/plain": [
       "'c:\\\\GitHub\\\\Article_Analyzer_NLP'"
      ]
     },
     "execution_count": 10,
     "metadata": {},
     "output_type": "execute_result"
    }
   ],
   "source": [
    "# Check working directory\n",
    "os.getcwd()"
   ]
  },
  {
   "cell_type": "code",
   "execution_count": 11,
   "metadata": {},
   "outputs": [],
   "source": [
    "# Save scraped article to file\n",
    "\n",
    "## Name with title\n",
    "file = open(f\"{article_title}.txt\",'w', encoding=\"utf-8\")\n",
    "file.write(final_article_text)\n",
    "file.close()\n",
    "\n",
    "# ## Name with the first sentence\n",
    "# file = open(f\"{article_first_sentence}.txt\",'w')\n",
    "# file.write(final_article_text)\n",
    "# file.close()"
   ]
  }
 ],
 "metadata": {
  "kernelspec": {
   "display_name": "base",
   "language": "python",
   "name": "python3"
  },
  "language_info": {
   "codemirror_mode": {
    "name": "ipython",
    "version": 3
   },
   "file_extension": ".py",
   "mimetype": "text/x-python",
   "name": "python",
   "nbconvert_exporter": "python",
   "pygments_lexer": "ipython3",
   "version": "3.9.7"
  }
 },
 "nbformat": 4,
 "nbformat_minor": 2
}
